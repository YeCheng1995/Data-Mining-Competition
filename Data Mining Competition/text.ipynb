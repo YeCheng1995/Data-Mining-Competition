{
 "cells": [
  {
   "cell_type": "code",
   "execution_count": 1,
   "id": "2bbfe726",
   "metadata": {},
   "outputs": [],
   "source": [
    "import pickle\n",
    "import matplotlib.pyplot as plt\n",
    "import matplotlib.gridspec as gridspec   \n",
    "import numpy as np\n",
    "import pandas as pd\n",
    "from sklearn.model_selection import train_test_split\n",
    "import seaborn as sns\n",
    "from datetime import datetime\n",
    "from sklearn.metrics import accuracy_score\n",
    "import math\n",
    "import re\n",
    "import numpy as np\n",
    "import matplotlib.pyplot as plt\n",
    "from sklearn.metrics import roc_curve, auc\n",
    "\n",
    "import csv\n"
   ]
  },
  {
   "cell_type": "code",
   "execution_count": 2,
   "id": "fdc18a37",
   "metadata": {},
   "outputs": [],
   "source": [
    "import numpy as np\n",
    "import matplotlib.pyplot as plt\n",
    "from sklearn.metrics import roc_curve, auc\n",
    "pd_reader = pd.read_csv(\"result.csv\")    \n",
    "y_true = pd_reader.iloc[:, 1][:-1] \n",
    "\n",
    "\n",
    "\n",
    "pd_reader1 = pd.read_csv(\"resultdataset.csv\")    \n",
    "y_scores1 = pd_reader1.iloc[:,1] \n",
    "\n",
    "\n",
    "y_scores = []\n",
    "for sublist in y_scores1:\n",
    "    for item in sublist:\n",
    "        try:\n",
    "            num = float(item)\n",
    "            num = round(num, 5)\n",
    "            y_scores.append(num)\n",
    "        except ValueError:\n",
    "            pass\n"
   ]
  },
  {
   "cell_type": "code",
   "execution_count": 3,
   "id": "f4db020c",
   "metadata": {},
   "outputs": [
    {
     "name": "stdout",
     "output_type": "stream",
     "text": [
      "0.7169825939155382\n"
     ]
    }
   ],
   "source": [
    "    \n",
    "# 计算FPR, TPR和阈值\n",
    "fpr, tpr, thresholds = roc_curve(y_scores,y_true ) #写反了\n",
    "\n",
    "# 计算AUC\n",
    "roc_auc = auc(fpr, tpr)\n",
    "print(roc_auc)"
   ]
  },
  {
   "cell_type": "code",
   "execution_count": 4,
   "id": "3d71fec5",
   "metadata": {},
   "outputs": [],
   "source": [
    "import numpy as np\n",
    "import matplotlib.pyplot as plt\n",
    "from sklearn.metrics import roc_curve, auc\n",
    "pd_reader = pd.read_csv(\"result1.csv\")    \n",
    "y_true = pd_reader.iloc[:, 1][:-1] \n",
    "\n",
    "\n",
    "\n",
    "pd_reader1 = pd.read_csv(\"resultdataset.csv\")    \n",
    "y_scores1 = pd_reader1.iloc[:,1] \n",
    "\n",
    "\n",
    "y_scores = []\n",
    "for sublist in y_scores1:\n",
    "    for item in sublist:\n",
    "        try:\n",
    "            num = float(item)\n",
    "            num = round(num, 5)\n",
    "            y_scores.append(num)\n",
    "        except ValueError:\n",
    "            pass\n"
   ]
  },
  {
   "cell_type": "code",
   "execution_count": 5,
   "id": "09d811e7",
   "metadata": {},
   "outputs": [
    {
     "name": "stdout",
     "output_type": "stream",
     "text": [
      "0.713641475555442\n"
     ]
    }
   ],
   "source": [
    "    \n",
    "# 计算FPR, TPR和阈值\n",
    "fpr, tpr, thresholds = roc_curve(y_scores,y_true ) #写反了\n",
    "\n",
    "# 计算AUC\n",
    "roc_auc = auc(fpr, tpr)\n",
    "print(roc_auc)"
   ]
  },
  {
   "cell_type": "code",
   "execution_count": null,
   "id": "9752ea19",
   "metadata": {},
   "outputs": [],
   "source": []
  },
  {
   "cell_type": "code",
   "execution_count": null,
   "id": "8748bec9",
   "metadata": {},
   "outputs": [],
   "source": []
  }
 ],
 "metadata": {
  "kernelspec": {
   "display_name": "Python 3 (ipykernel)",
   "language": "python",
   "name": "python3"
  },
  "language_info": {
   "codemirror_mode": {
    "name": "ipython",
    "version": 3
   },
   "file_extension": ".py",
   "mimetype": "text/x-python",
   "name": "python",
   "nbconvert_exporter": "python",
   "pygments_lexer": "ipython3",
   "version": "3.10.10"
  }
 },
 "nbformat": 4,
 "nbformat_minor": 5
}
